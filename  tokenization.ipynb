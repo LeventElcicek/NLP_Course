{
 "cells": [
  {
   "cell_type": "code",
   "execution_count": 1,
   "id": "71691d96-7b25-47ba-b6c2-bbd62faa9958",
   "metadata": {},
   "outputs": [],
   "source": [
    "from nltk.tokenize import word_tokenize,sent_tokenize"
   ]
  },
  {
   "cell_type": "code",
   "execution_count": 2,
   "id": "a9a8c5e7-e6c0-490b-aa3b-6a6fe11b728a",
   "metadata": {},
   "outputs": [],
   "source": [
    "text=\"Alan Turing, İngiliz matematikçi, bilgisayar bilimcisi ve kriptolog. Bilgisayar biliminin kurucusu sayılır. Geliştirmiş oldugu Turing testi ile makinelerin ve bilgisayarların düşünme yetisine sahip olup olamayacakları konusunda bir kriter öne sürmüştür.\""
   ]
  },
  {
   "cell_type": "code",
   "execution_count": 3,
   "id": "cf39d7ce-254f-46d1-8271-78a5aaf10114",
   "metadata": {},
   "outputs": [
    {
     "data": {
      "text/plain": [
       "['Alan',\n",
       " 'Turing',\n",
       " ',',\n",
       " 'İngiliz',\n",
       " 'matematikçi',\n",
       " ',',\n",
       " 'bilgisayar',\n",
       " 'bilimcisi',\n",
       " 've',\n",
       " 'kriptolog',\n",
       " '.',\n",
       " 'Bilgisayar',\n",
       " 'biliminin',\n",
       " 'kurucusu',\n",
       " 'sayılır',\n",
       " '.',\n",
       " 'Geliştirmiş',\n",
       " 'oldugu',\n",
       " 'Turing',\n",
       " 'testi',\n",
       " 'ile',\n",
       " 'makinelerin',\n",
       " 've',\n",
       " 'bilgisayarların',\n",
       " 'düşünme',\n",
       " 'yetisine',\n",
       " 'sahip',\n",
       " 'olup',\n",
       " 'olamayacakları',\n",
       " 'konusunda',\n",
       " 'bir',\n",
       " 'kriter',\n",
       " 'öne',\n",
       " 'sürmüştür',\n",
       " '.']"
      ]
     },
     "execution_count": 3,
     "metadata": {},
     "output_type": "execute_result"
    }
   ],
   "source": [
    "word_tokenize(text)"
   ]
  },
  {
   "cell_type": "code",
   "execution_count": 4,
   "id": "a4494bea-f7e6-4034-8ac5-84b9d434d19c",
   "metadata": {},
   "outputs": [
    {
     "data": {
      "text/plain": [
       "['Alan Turing, İngiliz matematikçi, bilgisayar bilimcisi ve kriptolog.',\n",
       " 'Bilgisayar biliminin kurucusu sayılır.',\n",
       " 'Geliştirmiş oldugu Turing testi ile makinelerin ve bilgisayarların düşünme yetisine sahip olup olamayacakları konusunda bir kriter öne sürmüştür.']"
      ]
     },
     "execution_count": 4,
     "metadata": {},
     "output_type": "execute_result"
    }
   ],
   "source": [
    "sent_tokenize(text)"
   ]
  },
  {
   "cell_type": "code",
   "execution_count": null,
   "id": "55798547-6d3d-4c3a-a89b-1f6d2171c817",
   "metadata": {},
   "outputs": [],
   "source": []
  }
 ],
 "metadata": {
  "kernelspec": {
   "display_name": "Python 3 (ipykernel)",
   "language": "python",
   "name": "python3"
  },
  "language_info": {
   "codemirror_mode": {
    "name": "ipython",
    "version": 3
   },
   "file_extension": ".py",
   "mimetype": "text/x-python",
   "name": "python",
   "nbconvert_exporter": "python",
   "pygments_lexer": "ipython3",
   "version": "3.10.15"
  }
 },
 "nbformat": 4,
 "nbformat_minor": 5
}
