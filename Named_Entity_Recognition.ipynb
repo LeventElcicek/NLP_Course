{
 "cells": [
  {
   "cell_type": "code",
   "execution_count": 1,
   "id": "aae91378-dfdd-4d08-b98c-3e2299c521f1",
   "metadata": {},
   "outputs": [],
   "source": [
    "import nltk\n",
    "from nltk.tokenize import word_tokenize,sent_tokenize"
   ]
  },
  {
   "cell_type": "code",
   "execution_count": 2,
   "id": "9d54e36a-6266-4721-b52a-92d51d9d19a7",
   "metadata": {},
   "outputs": [],
   "source": [
    "text = \"Steve Jobs was an American entrepreneur and business magnate. He was the chairman, chief executive officer (CEO), and a co-founder of Apple Inc., chairman and majority shareholder of Pixar, a member of The Walt Disney Company's board of directors following its acquisition of Pixar, and the founder, chairman, and CEO of NeXT. Jobs is widely recognized as a pioneer of the microcomputer revolution of the 1970s and 1980s, along with Apple co-founder Steve Wozniak. \""
   ]
  },
  {
   "cell_type": "code",
   "execution_count": 3,
   "id": "b9880243-6b41-453a-bc7c-b914a50f5aa1",
   "metadata": {},
   "outputs": [],
   "source": [
    "tokenizer= word_tokenize(text)"
   ]
  },
  {
   "cell_type": "code",
   "execution_count": 4,
   "id": "4244753b-9493-4bc9-8ab1-1c2ff9764864",
   "metadata": {
    "scrolled": true
   },
   "outputs": [
    {
     "data": {
      "text/plain": [
       "['Steve',\n",
       " 'Jobs',\n",
       " 'was',\n",
       " 'an',\n",
       " 'American',\n",
       " 'entrepreneur',\n",
       " 'and',\n",
       " 'business',\n",
       " 'magnate',\n",
       " '.',\n",
       " 'He',\n",
       " 'was',\n",
       " 'the',\n",
       " 'chairman',\n",
       " ',',\n",
       " 'chief',\n",
       " 'executive',\n",
       " 'officer',\n",
       " '(',\n",
       " 'CEO',\n",
       " ')',\n",
       " ',',\n",
       " 'and',\n",
       " 'a',\n",
       " 'co-founder',\n",
       " 'of',\n",
       " 'Apple',\n",
       " 'Inc.',\n",
       " ',',\n",
       " 'chairman',\n",
       " 'and',\n",
       " 'majority',\n",
       " 'shareholder',\n",
       " 'of',\n",
       " 'Pixar',\n",
       " ',',\n",
       " 'a',\n",
       " 'member',\n",
       " 'of',\n",
       " 'The',\n",
       " 'Walt',\n",
       " 'Disney',\n",
       " 'Company',\n",
       " \"'s\",\n",
       " 'board',\n",
       " 'of',\n",
       " 'directors',\n",
       " 'following',\n",
       " 'its',\n",
       " 'acquisition',\n",
       " 'of',\n",
       " 'Pixar',\n",
       " ',',\n",
       " 'and',\n",
       " 'the',\n",
       " 'founder',\n",
       " ',',\n",
       " 'chairman',\n",
       " ',',\n",
       " 'and',\n",
       " 'CEO',\n",
       " 'of',\n",
       " 'NeXT',\n",
       " '.',\n",
       " 'Jobs',\n",
       " 'is',\n",
       " 'widely',\n",
       " 'recognized',\n",
       " 'as',\n",
       " 'a',\n",
       " 'pioneer',\n",
       " 'of',\n",
       " 'the',\n",
       " 'microcomputer',\n",
       " 'revolution',\n",
       " 'of',\n",
       " 'the',\n",
       " '1970s',\n",
       " 'and',\n",
       " '1980s',\n",
       " ',',\n",
       " 'along',\n",
       " 'with',\n",
       " 'Apple',\n",
       " 'co-founder',\n",
       " 'Steve',\n",
       " 'Wozniak',\n",
       " '.']"
      ]
     },
     "execution_count": 4,
     "metadata": {},
     "output_type": "execute_result"
    }
   ],
   "source": [
    "tokenizer"
   ]
  },
  {
   "cell_type": "code",
   "execution_count": 6,
   "id": "4cd954cb-bd96-47e4-be85-98547b868763",
   "metadata": {},
   "outputs": [],
   "source": [
    "pos=nltk.pos_tag(tokenizer)"
   ]
  },
  {
   "cell_type": "code",
   "execution_count": 8,
   "id": "5d651254-af29-4047-aea8-12f66bbd4797",
   "metadata": {},
   "outputs": [],
   "source": [
    "named_entity= nltk.ne_chunk(pos)"
   ]
  },
  {
   "cell_type": "code",
   "execution_count": 12,
   "id": "a66d69dd-c180-4522-be4d-f83ba48fb857",
   "metadata": {},
   "outputs": [],
   "source": [
    "named_entity.draw()"
   ]
  },
  {
   "cell_type": "code",
   "execution_count": null,
   "id": "6dd92dcc-c06e-4e9f-82f1-2d9a13814475",
   "metadata": {},
   "outputs": [],
   "source": []
  }
 ],
 "metadata": {
  "kernelspec": {
   "display_name": "Python 3 (ipykernel)",
   "language": "python",
   "name": "python3"
  },
  "language_info": {
   "codemirror_mode": {
    "name": "ipython",
    "version": 3
   },
   "file_extension": ".py",
   "mimetype": "text/x-python",
   "name": "python",
   "nbconvert_exporter": "python",
   "pygments_lexer": "ipython3",
   "version": "3.10.15"
  }
 },
 "nbformat": 4,
 "nbformat_minor": 5
}
