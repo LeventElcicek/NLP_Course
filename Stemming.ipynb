{
 "cells": [
  {
   "cell_type": "code",
   "execution_count": 1,
   "id": "46771dc0-36f5-4784-b5e7-3c8bc2b9db6c",
   "metadata": {},
   "outputs": [],
   "source": [
    "from nltk.stem import PorterStemmer"
   ]
  },
  {
   "cell_type": "code",
   "execution_count": 2,
   "id": "457d49c9-c79b-48a1-9c1a-4354f4f7286b",
   "metadata": {},
   "outputs": [],
   "source": [
    "st=PorterStemmer()"
   ]
  },
  {
   "cell_type": "code",
   "execution_count": 10,
   "id": "f7fda11c-9dfa-408b-9d2a-e8548e5c1503",
   "metadata": {},
   "outputs": [],
   "source": [
    "text=['drive','driving','driver','drives','drove','cats','children']"
   ]
  },
  {
   "cell_type": "code",
   "execution_count": 11,
   "id": "fe46010e-e4c7-4a82-9e09-cc85ccb0d39b",
   "metadata": {},
   "outputs": [],
   "source": [
    "steam_texts=[]"
   ]
  },
  {
   "cell_type": "code",
   "execution_count": 12,
   "id": "a5dfc32e-7145-4c6b-8537-d0d8192f3760",
   "metadata": {},
   "outputs": [],
   "source": [
    "for word in text:\n",
    "    sword=st.stem(word)\n",
    "    steam_texts.append(sword)"
   ]
  },
  {
   "cell_type": "code",
   "execution_count": 13,
   "id": "269c8576-60c4-4261-bb28-bdc45910e058",
   "metadata": {},
   "outputs": [
    {
     "data": {
      "text/plain": [
       "['drive', 'drive', 'driver', 'drive', 'drove', 'cat', 'children']"
      ]
     },
     "execution_count": 13,
     "metadata": {},
     "output_type": "execute_result"
    }
   ],
   "source": [
    "steam_texts"
   ]
  },
  {
   "cell_type": "code",
   "execution_count": null,
   "id": "98bf3ea6-1e91-4240-b2be-71db186844c7",
   "metadata": {},
   "outputs": [],
   "source": []
  }
 ],
 "metadata": {
  "kernelspec": {
   "display_name": "Python 3 (ipykernel)",
   "language": "python",
   "name": "python3"
  },
  "language_info": {
   "codemirror_mode": {
    "name": "ipython",
    "version": 3
   },
   "file_extension": ".py",
   "mimetype": "text/x-python",
   "name": "python",
   "nbconvert_exporter": "python",
   "pygments_lexer": "ipython3",
   "version": "3.10.15"
  }
 },
 "nbformat": 4,
 "nbformat_minor": 5
}
