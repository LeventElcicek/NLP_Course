{
 "cells": [
  {
   "cell_type": "code",
   "execution_count": 2,
   "id": "a35391e1-3ab2-45b1-8224-559c27cd4dce",
   "metadata": {},
   "outputs": [],
   "source": [
    "from nltk.corpus import stopwords\n",
    "from nltk.tokenize import word_tokenize,sent_tokenize"
   ]
  },
  {
   "cell_type": "code",
   "execution_count": 3,
   "id": "48fa4158-a207-41c0-bd18-e397e7cfa63d",
   "metadata": {},
   "outputs": [],
   "source": [
    "text = 'Fazıl Say is a Turkish pianist and composer who was born in Ankara, described recently as \"not merely a pianist of genius; but undoubtedly he will be one of the great artists of the twenty-first century\".'"
   ]
  },
  {
   "cell_type": "code",
   "execution_count": 11,
   "id": "9c8b6fdc-e642-4a52-815a-29420d2c3086",
   "metadata": {
    "scrolled": true
   },
   "outputs": [],
   "source": [
    "stwrd=stopwords.words('english')\n",
    "clear_text=[]"
   ]
  },
  {
   "cell_type": "code",
   "execution_count": 12,
   "id": "d4541e48-6835-4f24-9066-2cb4489824c1",
   "metadata": {},
   "outputs": [],
   "source": [
    "for token in word_tokenize(text):\n",
    "    if token not in stwrd:\n",
    "        clear_text.append(token)\n",
    "        \n",
    "        \n",
    "        \n",
    "    "
   ]
  },
  {
   "cell_type": "code",
   "execution_count": 13,
   "id": "812d1043-82fe-45ec-9b4a-d68fca9d6409",
   "metadata": {},
   "outputs": [
    {
     "data": {
      "text/plain": [
       "['Fazıl',\n",
       " 'Say',\n",
       " 'Turkish',\n",
       " 'pianist',\n",
       " 'composer',\n",
       " 'born',\n",
       " 'Ankara',\n",
       " ',',\n",
       " 'described',\n",
       " 'recently',\n",
       " '``',\n",
       " 'merely',\n",
       " 'pianist',\n",
       " 'genius',\n",
       " ';',\n",
       " 'undoubtedly',\n",
       " 'one',\n",
       " 'great',\n",
       " 'artists',\n",
       " 'twenty-first',\n",
       " 'century',\n",
       " \"''\",\n",
       " '.']"
      ]
     },
     "execution_count": 13,
     "metadata": {},
     "output_type": "execute_result"
    }
   ],
   "source": [
    "clear_text"
   ]
  },
  {
   "cell_type": "code",
   "execution_count": null,
   "id": "4b2e12c2-bef6-4fbd-b954-3badbe40bf1f",
   "metadata": {},
   "outputs": [],
   "source": []
  }
 ],
 "metadata": {
  "kernelspec": {
   "display_name": "Python 3 (ipykernel)",
   "language": "python",
   "name": "python3"
  },
  "language_info": {
   "codemirror_mode": {
    "name": "ipython",
    "version": 3
   },
   "file_extension": ".py",
   "mimetype": "text/x-python",
   "name": "python",
   "nbconvert_exporter": "python",
   "pygments_lexer": "ipython3",
   "version": "3.10.15"
  }
 },
 "nbformat": 4,
 "nbformat_minor": 5
}
