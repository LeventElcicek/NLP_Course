{
 "cells": [
  {
   "cell_type": "code",
   "execution_count": 1,
   "id": "9d7e9b4d-5f20-4828-8afc-3a28e4396a44",
   "metadata": {},
   "outputs": [],
   "source": [
    "from gensim.scripts.glove2word2vec import glove2word2vec\n",
    "from gensim.models import KeyedVectors"
   ]
  },
  {
   "cell_type": "code",
   "execution_count": 2,
   "id": "de5ae93d-baac-4b7c-ad14-f8e1d2511a23",
   "metadata": {},
   "outputs": [],
   "source": [
    "glove_input= 'C:/Users/levent/OneDrive/Masaüstü/Doğal+Dil+İşleme+Kodlar/Hakan Cebeci - Doğal Dil İşleme/3- Glove/glove.6B.100d.txt'"
   ]
  },
  {
   "cell_type": "code",
   "execution_count": 3,
   "id": "d2dbe7c4-cbb1-4cbf-9fb1-668b82bed0d6",
   "metadata": {},
   "outputs": [],
   "source": [
    "Word2vec_output= 'glove.6B.100d.word2vec'"
   ]
  },
  {
   "cell_type": "code",
   "execution_count": 4,
   "id": "b0f6b95c-4e2b-466e-b4d7-296fb2a97b01",
   "metadata": {},
   "outputs": [
    {
     "name": "stderr",
     "output_type": "stream",
     "text": [
      "C:\\Users\\levent\\AppData\\Local\\Temp\\ipykernel_27656\\3947794520.py:1: DeprecationWarning: Call to deprecated `glove2word2vec` (KeyedVectors.load_word2vec_format(.., binary=False, no_header=True) loads GLoVE text vectors.).\n",
      "  glove2word2vec(glove_input,Word2vec_output)\n"
     ]
    },
    {
     "data": {
      "text/plain": [
       "(400000, 100)"
      ]
     },
     "execution_count": 4,
     "metadata": {},
     "output_type": "execute_result"
    }
   ],
   "source": [
    "glove2word2vec(glove_input,Word2vec_output)"
   ]
  },
  {
   "cell_type": "code",
   "execution_count": 5,
   "id": "4e0fe9bc-0787-4f7b-8c88-2f2cc764c230",
   "metadata": {},
   "outputs": [],
   "source": [
    "model=KeyedVectors.load_word2vec_format(Word2vec_output,binary=False)"
   ]
  },
  {
   "cell_type": "code",
   "execution_count": 12,
   "id": "753811a1-2a73-4dc4-b9d3-0e0368e7d9e9",
   "metadata": {},
   "outputs": [
    {
     "data": {
      "text/plain": [
       "[('pandas', 0.7574486136436462),\n",
       " ('cub', 0.7197703123092651),\n",
       " ('zoo', 0.6617312431335449),\n",
       " ('wolong', 0.6480264067649841),\n",
       " ('elephant', 0.5793296694755554),\n",
       " ('dolphin', 0.5778337121009827),\n",
       " ('gorilla', 0.5638635158538818),\n",
       " ('monkey', 0.5408830046653748),\n",
       " ('bird', 0.5377455949783325),\n",
       " ('cat', 0.5304445624351501)]"
      ]
     },
     "execution_count": 12,
     "metadata": {},
     "output_type": "execute_result"
    }
   ],
   "source": [
    "model.most_similar('panda')"
   ]
  },
  {
   "cell_type": "code",
   "execution_count": 16,
   "id": "7090683f-3c92-4aa3-958a-072a55b18fe2",
   "metadata": {},
   "outputs": [
    {
     "data": {
      "text/plain": [
       "[('son', 0.8105599284172058)]"
      ]
     },
     "execution_count": 16,
     "metadata": {},
     "output_type": "execute_result"
    }
   ],
   "source": [
    "model.most_similar(positive=['brother','man'],negative=['woman'],topn=1)"
   ]
  },
  {
   "cell_type": "code",
   "execution_count": 20,
   "id": "176d4a53-39e2-4330-b183-b4c5a93da253",
   "metadata": {},
   "outputs": [
    {
     "data": {
      "text/plain": [
       "[('italy', 0.7567881941795349)]"
      ]
     },
     "execution_count": 20,
     "metadata": {},
     "output_type": "execute_result"
    }
   ],
   "source": [
    "model.most_similar(positive=['turkey','germany'],negative=['ankara'],topn=1)"
   ]
  },
  {
   "cell_type": "code",
   "execution_count": null,
   "id": "86b1c2ec-020a-46c1-b688-3f68369a871a",
   "metadata": {},
   "outputs": [],
   "source": []
  }
 ],
 "metadata": {
  "kernelspec": {
   "display_name": "Python 3 (ipykernel)",
   "language": "python",
   "name": "python3"
  },
  "language_info": {
   "codemirror_mode": {
    "name": "ipython",
    "version": 3
   },
   "file_extension": ".py",
   "mimetype": "text/x-python",
   "name": "python",
   "nbconvert_exporter": "python",
   "pygments_lexer": "ipython3",
   "version": "3.10.15"
  }
 },
 "nbformat": 4,
 "nbformat_minor": 5
}
