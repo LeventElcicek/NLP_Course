{
 "cells": [
  {
   "cell_type": "code",
   "execution_count": 1,
   "id": "d92403dd-4184-4cdc-bb69-b2bc088e3eef",
   "metadata": {},
   "outputs": [],
   "source": [
    "import nltk \n"
   ]
  },
  {
   "cell_type": "code",
   "execution_count": 2,
   "id": "ba84dc33-6d7b-49fe-a08a-64107d724578",
   "metadata": {},
   "outputs": [],
   "source": [
    "f= open(\"C:/Users/levent/OneDrive/Masaüstü/Doğal+Dil+İşleme+Kodlar/Hakan Cebeci - Doğal Dil İşleme/2- word2vec/hurriyet.txt\",'r',encoding='utf8')"
   ]
  },
  {
   "cell_type": "code",
   "execution_count": 3,
   "id": "a4af353b-d9a6-463b-951a-63a3794473be",
   "metadata": {},
   "outputs": [],
   "source": [
    "text=f.read()"
   ]
  },
  {
   "cell_type": "code",
   "execution_count": 4,
   "id": "27181c4f-1323-4641-a988-f6f5a67204c7",
   "metadata": {},
   "outputs": [],
   "source": [
    "sents=text.split('\\n')\n",
    "corpus=[]"
   ]
  },
  {
   "cell_type": "code",
   "execution_count": 5,
   "id": "3ff7fd29-672a-489c-b8f4-58e507265914",
   "metadata": {},
   "outputs": [],
   "source": [
    "for word in sents:\n",
    "    corpus.append(word.split())"
   ]
  },
  {
   "cell_type": "code",
   "execution_count": 7,
   "id": "5fa5246b-14d3-4022-9a2e-114f301f78e6",
   "metadata": {},
   "outputs": [],
   "source": [
    "from gensim.models import Word2Vec\n"
   ]
  },
  {
   "cell_type": "code",
   "execution_count": 9,
   "id": "8d4c032b-2799-4c3b-9a1e-4833fbf49b49",
   "metadata": {},
   "outputs": [],
   "source": [
    "model= Word2Vec(corpus, vector_size=100, window=5, min_count=5, sg=1)"
   ]
  },
  {
   "cell_type": "code",
   "execution_count": 26,
   "id": "45622304-0b2b-468a-b244-18a89cffd306",
   "metadata": {},
   "outputs": [
    {
     "data": {
      "text/plain": [
       "[('kitabı', 0.7606695890426636),\n",
       " ('resim', 0.7228093147277832),\n",
       " ('belgesel', 0.7014545798301697),\n",
       " ('kitabın', 0.6828809380531311),\n",
       " ('romanı', 0.6798225045204163),\n",
       " ('film', 0.6782879829406738),\n",
       " ('şiir', 0.6780503988265991),\n",
       " ('albüm', 0.6763075590133667),\n",
       " ('belgeseller', 0.6756852865219116),\n",
       " ('sergisi', 0.673959493637085)]"
      ]
     },
     "execution_count": 26,
     "metadata": {},
     "output_type": "execute_result"
    }
   ],
   "source": [
    "model.wv.most_similar('kitap')"
   ]
  },
  {
   "cell_type": "code",
   "execution_count": 27,
   "id": "617bb067-1db9-4e7a-ad53-06d7feb7c7d9",
   "metadata": {},
   "outputs": [],
   "source": [
    "model.save('word2vec.model')"
   ]
  },
  {
   "cell_type": "code",
   "execution_count": 39,
   "id": "0924d4cd-09b9-4832-b61c-d08ed81cfda0",
   "metadata": {},
   "outputs": [],
   "source": [
    "model= Word2Vec.load('word2vec.model')"
   ]
  },
  {
   "cell_type": "code",
   "execution_count": 40,
   "id": "c320b959-1259-42e6-8965-02fbb50ad725",
   "metadata": {},
   "outputs": [],
   "source": [
    "import numpy as np\n",
    "from sklearn.manifold import TSNE\n",
    "import matplotlib.pyplot as plt"
   ]
  },
  {
   "cell_type": "code",
   "execution_count": 43,
   "id": "ea8821ae-936a-48ad-b738-de3a5c6ff6c2",
   "metadata": {},
   "outputs": [],
   "source": [
    "def closestwords_tsneplot(model, word):\n",
    "    word_vectors = np.empty((0,100))\n",
    "    word_labels = [word]\n",
    "    \n",
    "    close_words = model.wv.most_similar(word)\n",
    "    \n",
    "    word_vectors = np.append(word_vectors, np.array([model.wv[word]]), axis=0)\n",
    "    \n",
    "    for w, _ in close_words:\n",
    "        word_labels.append(w)\n",
    "        word_vectors = np.append(word_vectors, np.array([model.wv[w]]), axis=0)\n",
    "        \n",
    "    tsne = TSNE(perplexity=5,random_state=0)\n",
    "    Y = tsne.fit_transform(word_vectors)\n",
    "    \n",
    "    x_coords = Y[:, 0]\n",
    "    y_coords = Y[:, 1]\n",
    "    \n",
    "    plt.scatter(x_coords, y_coords)\n",
    "    \n",
    "    for label, x, y in zip(word_labels, x_coords, y_coords):\n",
    "        plt.annotate(label, xy=(x, y), xytext=(5, -2), textcoords='offset points')\n",
    "        \n",
    "    plt.show()"
   ]
  },
  {
   "cell_type": "code",
   "execution_count": 53,
   "id": "88f7582f-2dde-4692-bd36-524e0f43da73",
   "metadata": {},
   "outputs": [
    {
     "data": {
      "image/png": "[encoded data removed]",
      "text/plain": [
       "<Figure size 640x480 with 1 Axes>"
      ]
     },
     "metadata": {},
     "output_type": "display_data"
    }
   ],
   "source": [
    "closestwords_tsneplot(model, 'istanbul')"
   ]
  },
  {
   "cell_type": "code",
   "execution_count": null,
   "id": "74ff473c-ba01-4520-a6f0-8c03a635d9d9",
   "metadata": {},
   "outputs": [],
   "source": []
  }
 ],
 "metadata": {
  "kernelspec": {
   "display_name": "Python 3 (ipykernel)",
   "language": "python",
   "name": "python3"
  },
  "language_info": {
   "codemirror_mode": {
    "name": "ipython",
    "version": 3
   },
   "file_extension": ".py",
   "mimetype": "text/x-python",
   "name": "python",
   "nbconvert_exporter": "python",
   "pygments_lexer": "ipython3",
   "version": "3.10.15"
  }
 },
 "nbformat": 4,
 "nbformat_minor": 5
}
